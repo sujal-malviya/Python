{
 "cells": [
  {
   "cell_type": "code",
   "execution_count": 5,
   "id": "c32dda7c",
   "metadata": {},
   "outputs": [
    {
     "name": "stdout",
     "output_type": "stream",
     "text": [
      "The factorial of 7 is 5040\n"
     ]
    }
   ],
   "source": [
    "#  iteravtive method of finding factorial --\n",
    "num = 7 \n",
    "# To take input from the user \n",
    "#num = int(input(\"Enter a number: \")) \n",
    "factorial = 1 \n",
    "# check if the number is negative, positive or zero \n",
    "if (num < 0):\n",
    "    print(\"Sorry, factorial does not exist for negative numbers\") \n",
    "elif (num == 0): \n",
    "    print(\"The factorial of 0 is 1\") \n",
    "else: \n",
    "    for i in range(1,num + 1): \n",
    "        factorial = factorial*i \n",
    "print(\"The factorial of\",num,\"is\",factorial)"
   ]
  },
  {
   "cell_type": "code",
   "execution_count": null,
   "id": "e2582a2e",
   "metadata": {},
   "outputs": [],
   "source": []
  },
  {
   "cell_type": "code",
   "execution_count": null,
   "id": "626f8f62",
   "metadata": {},
   "outputs": [],
   "source": []
  }
 ],
 "metadata": {
  "kernelspec": {
   "display_name": "Python 3 (ipykernel)",
   "language": "python",
   "name": "python3"
  },
  "language_info": {
   "codemirror_mode": {
    "name": "ipython",
    "version": 3
   },
   "file_extension": ".py",
   "mimetype": "text/x-python",
   "name": "python",
   "nbconvert_exporter": "python",
   "pygments_lexer": "ipython3",
   "version": "3.9.13"
  }
 },
 "nbformat": 4,
 "nbformat_minor": 5
}
