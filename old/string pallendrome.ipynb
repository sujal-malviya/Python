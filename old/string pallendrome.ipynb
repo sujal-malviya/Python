{
 "cells": [
  {
   "cell_type": "code",
   "execution_count": 2,
   "id": "e57f265c",
   "metadata": {},
   "outputs": [
    {
     "name": "stdout",
     "output_type": "stream",
     "text": [
      "Enter a word: malayalam\n",
      "malayalam is a palindrome\n"
     ]
    }
   ],
   "source": [
    "a=input(\"Enter a word: \")\n",
    "if(a[::]==a[::-1]):\n",
    "    print(a,\"is a palindrome\")\n",
    "else:\n",
    "    print(a,\"is not a palindrome\")"
   ]
  },
  {
   "cell_type": "code",
   "execution_count": null,
   "id": "26266580",
   "metadata": {},
   "outputs": [],
   "source": []
  }
 ],
 "metadata": {
  "kernelspec": {
   "display_name": "Python 3 (ipykernel)",
   "language": "python",
   "name": "python3"
  },
  "language_info": {
   "codemirror_mode": {
    "name": "ipython",
    "version": 3
   },
   "file_extension": ".py",
   "mimetype": "text/x-python",
   "name": "python",
   "nbconvert_exporter": "python",
   "pygments_lexer": "ipython3",
   "version": "3.9.13"
  }
 },
 "nbformat": 4,
 "nbformat_minor": 5
}
