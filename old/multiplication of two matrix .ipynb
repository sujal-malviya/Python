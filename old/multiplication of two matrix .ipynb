{
 "cells": [
  {
   "cell_type": "code",
   "execution_count": 10,
   "id": "01699bdc",
   "metadata": {},
   "outputs": [
    {
     "name": "stdout",
     "output_type": "stream",
     "text": [
      "Multiplication of given matrix is\n",
      "[114, 160, 60, 27]\n",
      "[74, 97, 73, 14]\n",
      "[119, 157, 112, 23]\n"
     ]
    }
   ],
   "source": [
    "# Program to multiply two matrices using nested loops\n",
    "# 3x3 matrix\n",
    "X = [[12,7,3], [4 ,5,6], [7 ,8,9]]\n",
    "# 3x4 matrix\n",
    "Y = [[5,8,1,2], [6,7,3,0], [4,5,9,1]]\n",
    "# result is 3x4\n",
    "result = [[0,0,0,0], [0,0,0,0], [0,0,0,0]]\n",
    "# iterate through rows of X\n",
    "for i in range(len(X)):\n",
    " # iterate through columns of Y\n",
    "  for j in range(len(Y[0])):\n",
    " # iterate through rows of Y\n",
    "     for k in range(len(Y)):\n",
    "        result[i][j] += X[i][k] * Y[k][j]\n",
    "print(\"Multiplication of given matrix is\")\n",
    "for r in result:\n",
    "    print(r)"
   ]
  },
  {
   "cell_type": "code",
   "execution_count": null,
   "id": "82efdd86",
   "metadata": {},
   "outputs": [],
   "source": []
  },
  {
   "cell_type": "code",
   "execution_count": null,
   "id": "5566cbfa",
   "metadata": {},
   "outputs": [],
   "source": []
  }
 ],
 "metadata": {
  "kernelspec": {
   "display_name": "Python 3 (ipykernel)",
   "language": "python",
   "name": "python3"
  },
  "language_info": {
   "codemirror_mode": {
    "name": "ipython",
    "version": 3
   },
   "file_extension": ".py",
   "mimetype": "text/x-python",
   "name": "python",
   "nbconvert_exporter": "python",
   "pygments_lexer": "ipython3",
   "version": "3.9.13"
  }
 },
 "nbformat": 4,
 "nbformat_minor": 5
}
