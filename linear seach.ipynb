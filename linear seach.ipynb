{
 "cells": [
  {
   "cell_type": "code",
   "execution_count": 33,
   "id": "a70f1022",
   "metadata": {},
   "outputs": [
    {
     "name": "stdout",
     "output_type": "stream",
     "text": [
      "Enter the number to search 4\n",
      "4 is not there in the given list\n"
     ]
    }
   ],
   "source": [
    "# linear search --\n",
    "# Linear Search in python\n",
    "# Linearly search x in arr[]\n",
    "# If x is present then return its location, else return -1\n",
    "def search(arr, x):\n",
    "    for i in range(len(arr)):\n",
    "        if arr[i] == x:\n",
    "            return i\n",
    "        return -1\n",
    "#Driver Code\n",
    "arr=[1,5,6,3,10,9,4]\n",
    "x=int(input(\"Enter the number to search \"))\n",
    "if(search(arr,x)==-1):\n",
    "    print(x,\"is not there in the given list\")\n",
    "else:\n",
    "    print(x,\"is present at index\",search(arr,x),\"in the given list\")"
   ]
  },
  {
   "cell_type": "code",
   "execution_count": null,
   "id": "6bf4a2d8",
   "metadata": {},
   "outputs": [],
   "source": []
  }
 ],
 "metadata": {
  "kernelspec": {
   "display_name": "Python 3 (ipykernel)",
   "language": "python",
   "name": "python3"
  },
  "language_info": {
   "codemirror_mode": {
    "name": "ipython",
    "version": 3
   },
   "file_extension": ".py",
   "mimetype": "text/x-python",
   "name": "python",
   "nbconvert_exporter": "python",
   "pygments_lexer": "ipython3",
   "version": "3.9.13"
  }
 },
 "nbformat": 4,
 "nbformat_minor": 5
}
