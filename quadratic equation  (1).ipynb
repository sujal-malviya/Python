{
 "cells": [
  {
   "cell_type": "code",
   "execution_count": 2,
   "id": "791d3203",
   "metadata": {},
   "outputs": [
    {
     "name": "stdout",
     "output_type": "stream",
     "text": [
      "enter value : 1\n",
      "enter value : 2\n",
      "enter value : 3\n",
      "(-1-1.4142135623730951j)\n",
      "(-1+1.4142135623730951j)\n"
     ]
    }
   ],
   "source": [
    " # quadratic equation -\n",
    "import cmath\n",
    "a = float(input(\"enter value : \"))\n",
    "b = float(input(\"enter value : \"))\n",
    "c = float(input(\"enter value : \"))\n",
    "# to find d -\n",
    "d = (b**2)-(4*a*c)\n",
    "# to find sol -\n",
    "s1 = (-b-cmath.sqrt(d))/(2*a)\n",
    "s2 = (-b+cmath.sqrt(d))/(2*a)\n",
    "print(s1)\n",
    "print(s2)\n"
   ]
  },
  {
   "cell_type": "code",
   "execution_count": null,
   "id": "c3b1e868",
   "metadata": {},
   "outputs": [],
   "source": []
  }
 ],
 "metadata": {
  "kernelspec": {
   "display_name": "Python 3 (ipykernel)",
   "language": "python",
   "name": "python3"
  },
  "language_info": {
   "codemirror_mode": {
    "name": "ipython",
    "version": 3
   },
   "file_extension": ".py",
   "mimetype": "text/x-python",
   "name": "python",
   "nbconvert_exporter": "python",
   "pygments_lexer": "ipython3",
   "version": "3.9.13"
  }
 },
 "nbformat": 4,
 "nbformat_minor": 5
}
